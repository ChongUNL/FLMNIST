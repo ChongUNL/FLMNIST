{
 "cells": [
  {
   "cell_type": "code",
   "execution_count": 1,
   "metadata": {},
   "outputs": [],
   "source": [
    "import torch\n",
    "import torch.nn as nn\n",
    "import torchvision\n",
    "import torchvision.transforms as transforms\n",
    "import numpy as np\n",
    "import time\n",
    "import matplotlib.pyplot as plt\n",
    "import copy\n",
    "from torch.utils.data.sampler import SubsetRandomSampler"
   ]
  },
  {
   "cell_type": "markdown",
   "metadata": {},
   "source": [
    "Determine HyperParameter"
   ]
  },
  {
   "cell_type": "code",
   "execution_count": 59,
   "metadata": {},
   "outputs": [],
   "source": [
    "learning_rate = 0.1\n",
    "ModelList = []          ## list for models\n",
    "Res = []\n",
    "IItr = 12\n",
    "batch_size = 64\n",
    "n_clients = 10"
   ]
  },
  {
   "cell_type": "markdown",
   "metadata": {},
   "source": [
    "Dataset distribution among clients"
   ]
  },
  {
   "cell_type": "code",
   "execution_count": 63,
   "metadata": {},
   "outputs": [],
   "source": [
    "Avg = n_clients\n",
    "Asking = [10]\n",
    "MaxTime = 0\n",
    "smooth = [50,100]\n",
    "VGG = 0\n",
    "CUDAA = 0\n",
    "num_workers = 0\n",
    "transform = transforms.ToTensor()\n",
    "MaxItr = 1000\n",
    "# It is in order of 50K dataset\n",
    "\n",
    "train_data = torchvision.datasets.MNIST(root = 'data', train = True, download = True, transform = transform)\n",
    "temp = tuple([len(train_data)//n_clients for i in range(n_clients)])\n",
    "dataset = torch.utils.data.random_split(train_data, temp)\n",
    "worker_data_loader = []\n",
    "for data_w in dataset:\n",
    "    worker_data_loader.append(torch.utils.data.DataLoader(data_w, batch_size=batch_size, shuffle=True, num_workers=0))\n",
    "test_data  = torchvision.datasets.MNIST(root = 'data', train = False, download = False, transform = transform)\n",
    "testloader = torch.utils.data.DataLoader(test_data,batch_size=batch_size,shuffle=False, num_workers=0)"
   ]
  },
  {
   "cell_type": "markdown",
   "metadata": {},
   "source": [
    "Simple CNN"
   ]
  },
  {
   "cell_type": "code",
   "execution_count": 64,
   "metadata": {},
   "outputs": [],
   "source": [
    "class model(nn.Module):\n",
    "    def __init__(self):\n",
    "        hidden_1 = 32\n",
    "        hidden_2 = 32\n",
    "        super(model, self).__init__()\n",
    "        self.conv1 = nn.Conv2d(1,  16,  kernel_size=5)\n",
    "        self.conv2 = nn.Conv2d(16, 32, kernel_size=5)\n",
    "        self.fc1 = nn.Linear(32*10*10, hidden_1)\n",
    "        self.fc2 = nn.Linear(hidden_1, hidden_2)\n",
    "        self.fc3 = nn.Linear(hidden_2, 10)\n",
    "\n",
    "    def forward(self, x):\n",
    "        x = nn.functional.relu(self.conv1(x))\n",
    "        x = nn.functional.relu(nn.functional.max_pool2d(self.conv2(x), 2))\n",
    "        x = x.view(-1,32*10*10 )\n",
    "        x = nn.functional.relu(self.fc1(x))\n",
    "        x = nn.functional.relu(self.fc2(x))\n",
    "        x = self.fc3(x)\n",
    "        return x"
   ]
  },
  {
   "cell_type": "markdown",
   "metadata": {},
   "source": [
    "Using GPU if available"
   ]
  },
  {
   "cell_type": "code",
   "execution_count": 65,
   "metadata": {},
   "outputs": [],
   "source": [
    "device = torch.device(\"cuda:0\" if torch.cuda.is_available() else \"cpu\")"
   ]
  },
  {
   "cell_type": "code",
   "execution_count": 66,
   "metadata": {},
   "outputs": [],
   "source": [
    "Fix_net = model().to(device) \n",
    "net = model().to(device)"
   ]
  },
  {
   "cell_type": "code",
   "execution_count": 67,
   "metadata": {},
   "outputs": [],
   "source": [
    "optimizer = torch.optim.SGD(net.parameters(), lr = learning_rate)\n",
    "criterion = nn.CrossEntropyLoss()"
   ]
  },
  {
   "cell_type": "code",
   "execution_count": 68,
   "metadata": {},
   "outputs": [],
   "source": [
    "Err_Storage = [[] for i in range(Avg+1)]\n",
    "Time_Storage = [[] for i in range(Avg+1)]"
   ]
  },
  {
   "cell_type": "code",
   "execution_count": 69,
   "metadata": {},
   "outputs": [],
   "source": [
    "def t(Kt, Avg):\n",
    "    import numpy as np\n",
    "    T = np.random.uniform(0,1,Avg)\n",
    "    Time_Index  = sorted(range(len(T)), key = lambda kk: T[kk])\n",
    "    Temp = Time_Index[0:Kt]\n",
    "    Out = T[Temp[Kt-1]] \n",
    "    return Out, Temp"
   ]
  },
  {
   "cell_type": "markdown",
   "metadata": {},
   "source": [
    "1. calculate loss on train data"
   ]
  },
  {
   "cell_type": "code",
   "execution_count": 75,
   "metadata": {},
   "outputs": [],
   "source": [
    "def worker_new(Fix_net_state_dict, worker_data_loader, VGG, CUDAA):\n",
    "\n",
    "    import torch\n",
    "    import torch.nn as nn\n",
    "    import torchvision\n",
    "    import torchvision.transforms as transforms\n",
    "    from torchvision import datasets, models, transforms\n",
    "    import numpy as np\n",
    "    import time\n",
    "\n",
    "\n",
    "    train_loader = worker_data_loader\n",
    "###################################################################################################################\n",
    "        \n",
    "    class model(nn.Module):\n",
    "        def __init__(self):\n",
    "            hidden_1 = 32\n",
    "            hidden_2 = 32\n",
    "            super(model, self).__init__()\n",
    "            self.conv1 = nn.Conv2d(1,  16,  kernel_size=5)\n",
    "            self.conv2 = nn.Conv2d(16, 32, kernel_size=5)\n",
    "            self.fc1 = nn.Linear(32*10*10, hidden_1)\n",
    "            self.fc2 = nn.Linear(hidden_1, hidden_2)\n",
    "            self.fc3 = nn.Linear(hidden_2, 10)\n",
    "    \n",
    "        def forward(self, x):\n",
    "            x = nn.functional.relu(self.conv1(x))\n",
    "            x = nn.functional.relu(nn.functional.max_pool2d(self.conv2(x), 2))\n",
    "            x = x.view(-1,32*10*10 )\n",
    "            x = nn.functional.relu(self.fc1(x))\n",
    "            x = nn.functional.relu(self.fc2(x))\n",
    "            x = self.fc3(x)\n",
    "            return x\n",
    "\n",
    "    device = torch.device(\"cuda:0\" if torch.cuda.is_available() else \"cpu\")\n",
    "    \n",
    "\n",
    "    net_worker = model().to(device)\n",
    "    net_worker.load_state_dict(Fix_net_state_dict)\n",
    "    criterion = nn.CrossEntropyLoss()\n",
    "    counterr = 0\n",
    "    running_loss = 0\n",
    "    \n",
    "    for i, data in enumerate(train_loader, 0):\n",
    "        counterr += 1\n",
    "        inputs, labels = data[0].to(device), data[1].to(device)\n",
    "        outputs = net_worker(inputs)\n",
    "        loss = criterion(outputs, labels)\n",
    "        loss.backward()\n",
    "        optimizer.step()\n",
    "        \n",
    "        running_loss += loss.item() * inputs.size(0)\n",
    "        if counterr == 10:\n",
    "            break\n",
    "\n",
    "    return running_loss, net_worker.parameters()"
   ]
  },
  {
   "cell_type": "markdown",
   "metadata": {},
   "source": [
    "2. Calulate loss on testdata"
   ]
  },
  {
   "cell_type": "code",
   "execution_count": 76,
   "metadata": {},
   "outputs": [],
   "source": [
    "def Get_Res_Worker(param_master_loop):\n",
    "    import torch\n",
    "    import torch.nn as nn\n",
    "    import torchvision\n",
    "    import torchvision.transforms as transforms\n",
    "    import numpy as np\n",
    "    import time\n",
    "    import matplotlib.pyplot as plt\n",
    "    import copy\n",
    "    classes = ('0', '1', '2', '3', '4', '5', '6', '7', '8', '9')\n",
    "    \n",
    "    Kt, Avg, learning_rate, Fix_net_state_dict, worker_data_loader, testloader, net, MaxItr, MaxTime, smooth, optimizer, criterion, VGG, CUDAA, batch_size = param_master_loop\n",
    "    time_start = time.time()\n",
    "    Itr = 0\n",
    "\n",
    "    loss_workers = 0\n",
    "    Err = []\n",
    "    TTime = 0\n",
    "    Time = []\n",
    "    \n",
    "    scheduler  = torch.optim.lr_scheduler.StepLR(optimizer, step_size = smooth[1], gamma=0.9, last_epoch=-1)\n",
    "    Itr = IItr\n",
    "    \n",
    "    \n",
    "    \n",
    "    while Itr < MaxItr:\n",
    "\n",
    "        net_parameters = []\n",
    "        optimizer.zero_grad()\n",
    "        net.load_state_dict(Fix_net_state_dict)\n",
    "        dict_param2 = dict(net.named_parameters())\n",
    "\n",
    "        # Timing:\n",
    "        T, Participated_Workers = t(Kt, Avg)\n",
    "        TTime = T + TTime\n",
    "\n",
    "\n",
    "        for i in Participated_Workers:\n",
    "            loss_worker, temp = worker_new(Fix_net_state_dict, worker_data_loader[i], VGG, CUDAA)\n",
    "            net_parameters.append(temp) \n",
    "            loss_workers += loss_worker/len(Participated_Workers)\n",
    "\n",
    "        # Updating model                             \n",
    "        for P in zip(net.parameters(), *net_parameters):\n",
    "            temp = 0\n",
    "            for p in P[1:]:\n",
    "                temp += p.grad/len(Participated_Workers)\n",
    "            P[0].grad = temp\n",
    "\n",
    "        scheduler.step()\n",
    "        optimizer.step() \n",
    "\n",
    "        \n",
    "        for name, param in net.named_parameters():\n",
    "            if name in dict_param2:\n",
    "                dict_param2[name].data.copy_(param.data)\n",
    "        Fix_net_state_dict = dict_param2         \n",
    "\n",
    "\n",
    "\n",
    "        if Itr == 0:\n",
    "            Time.append(TTime)\n",
    "            Err.append(loss_workers)\n",
    "\n",
    "        if Itr %smooth[0] == smooth[0]-1:\n",
    "            Time.append(TTime)\n",
    "            Err.append(loss_workers / smooth[0])\n",
    "            loss_workers = 0\n",
    "\n",
    "\n",
    "        Itr += 1\n",
    "\n",
    "###################################################################################################################\n",
    "    class_correct = list(0. for i in range(10))\n",
    "    class_total = list(0. for i in range(10))\n",
    "    device = torch.device(\"cuda:0\" if torch.cuda.is_available() else \"cpu\")\n",
    "    \n",
    "    with torch.no_grad():\n",
    "        for data in testloader:\n",
    "\n",
    "            images, labels = data[0].to(device), data[1].to(device)\n",
    "            outputs = net(images)\n",
    "            loss = criterion(outputs, labels)\n",
    "            \n",
    "            _, predicted = torch.max(outputs, 1)\n",
    "            c = (predicted == labels).squeeze()\n",
    "            for i in range(10):\n",
    "                \n",
    "                label = labels[i]\n",
    "                class_correct[label] += c[i].item()\n",
    "                class_total[label] += 1\n",
    "    \n",
    "    \n",
    "    for i in range(10):\n",
    "        print(\"testdata\",'Number of workers:%d Accuracy of %5s : %2d %%' % (Kt, classes[i], 100 * class_correct[i] / class_total[i]))\n",
    "    \n",
    "    print('time elapsed', (time.time() - time_start)/60,' min')\n",
    "        \n",
    "    return Err, Time, Fix_net_state_dict"
   ]
  },
  {
   "cell_type": "markdown",
   "metadata": {},
   "source": [
    "After Running the modules, run the following part for Error calculation"
   ]
  },
  {
   "cell_type": "markdown",
   "metadata": {},
   "source": [
    "TestData"
   ]
  },
  {
   "cell_type": "code",
   "execution_count": 77,
   "metadata": {},
   "outputs": [
    {
     "name": "stdout",
     "output_type": "stream",
     "text": [
      "testdata Number of workers:10 Accuracy of     0 : 99 %\n",
      "testdata Number of workers:10 Accuracy of     1 : 98 %\n",
      "testdata Number of workers:10 Accuracy of     2 : 98 %\n",
      "testdata Number of workers:10 Accuracy of     3 : 98 %\n",
      "testdata Number of workers:10 Accuracy of     4 : 98 %\n",
      "testdata Number of workers:10 Accuracy of     5 : 98 %\n",
      "testdata Number of workers:10 Accuracy of     6 : 96 %\n",
      "testdata Number of workers:10 Accuracy of     7 : 98 %\n",
      "testdata Number of workers:10 Accuracy of     8 : 97 %\n",
      "testdata Number of workers:10 Accuracy of     9 : 98 %\n",
      "time elapsed 35.34883539676666  min\n"
     ]
    }
   ],
   "source": [
    "for i in Asking:\n",
    "    Kt = i\n",
    "    Fix_net_state_dict = copy.deepcopy(Fix_net.state_dict())\n",
    "\n",
    "    param_master_loop = [Kt, Avg, learning_rate, Fix_net_state_dict,\n",
    "                         worker_data_loader, testloader, net, MaxItr,\n",
    "                         MaxTime, smooth, optimizer, criterion, VGG, CUDAA, batch_size]\n",
    "    Err_Storage[i-1], Time_Storage[i-1], Fix_net_state_dict = Get_Res_Worker(param_master_loop)\n",
    "\n",
    "ESS  = [x for x in Err_Storage if x]   \n",
    "TSS = [x for x in Time_Storage if x] \n",
    "\n"
   ]
  },
  {
   "cell_type": "markdown",
   "metadata": {},
   "source": [
    "TrainData"
   ]
  },
  {
   "cell_type": "code",
   "execution_count": 78,
   "metadata": {},
   "outputs": [
    {
     "data": {
      "text/plain": [
       "Text(0.5, 1.0, 'Normalize loss on Traindata')"
      ]
     },
     "execution_count": 78,
     "metadata": {},
     "output_type": "execute_result"
    },
    {
     "data": {
      "image/png": "[encoded data removed]",
      "text/plain": [
       "<Figure size 432x288 with 1 Axes>"
      ]
     },
     "metadata": {
      "needs_background": "light"
     },
     "output_type": "display_data"
    }
   ],
   "source": [
    "def NormalizeData(data):\n",
    "    return (data - np.min(data)) / (np.max(data) - np.min(data))\n",
    "\n",
    "scaled_x = NormalizeData(ESS[0])\n",
    "\n",
    "plt.plot(scaled_x)\n",
    "plt.xlabel('Rounds')\n",
    "plt.ylabel('Normalize loss')\n",
    "plt.title('Normalize loss on Traindata')"
   ]
  },
  {
   "cell_type": "code",
   "execution_count": null,
   "metadata": {},
   "outputs": [],
   "source": []
  }
 ],
 "metadata": {
  "kernelspec": {
   "display_name": "Python 3 (ipykernel)",
   "language": "python",
   "name": "python3"
  },
  "language_info": {
   "codemirror_mode": {
    "name": "ipython",
    "version": 3
   },
   "file_extension": ".py",
   "mimetype": "text/x-python",
   "name": "python",
   "nbconvert_exporter": "python",
   "pygments_lexer": "ipython3",
   "version": "3.8.8"
  }
 },
 "nbformat": 4,
 "nbformat_minor": 4
}
